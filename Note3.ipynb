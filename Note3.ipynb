{
 "cells": [
  {
   "cell_type": "markdown",
   "id": "ab26c84e",
   "metadata": {},
   "source": [
    "# Notebook 3: Statistical Modelling: Part I: Preprocessing "
   ]
  },
  {
   "cell_type": "code",
   "execution_count": 1,
   "id": "f8c2228b",
   "metadata": {},
   "outputs": [],
   "source": [
    "import pandas as pd\n",
    "import warnings\n",
    "import seaborn as sns\n",
    "import matplotlib.pyplot as plt\n",
    "import statsmodels.api as sm\n",
    "warnings.filterwarnings(\"ignore\")\n",
    "import seaborn as sns\n",
    "import math\n",
    "import numpy as np\n",
    "from statsmodels.formula.api import *\n",
    "\n",
    "# Train set from June and July\n",
    "yellow_trip_train = pd.read_feather(\"../preprocessed_data/yellow_trip_train.feather\")\n",
    "# Testing dataset in August\n",
    "yellow_trip_test = pd.read_feather(\"../preprocessed_data/yellow_trip_test.feather\")\n",
    "yellow_trip_train = yellow_trip_train.iloc[: , 1:]\n",
    "yellow_trip_test = yellow_trip_test.iloc[: , 1:]\n",
    "\n",
    "yellow_trip_train['hour'] = yellow_trip_train['hour'].astype(object)\n",
    "yellow_trip_test['hour'] = yellow_trip_test['hour'].astype(object)"
   ]
  },
  {
   "cell_type": "markdown",
   "id": "80f2dcd6",
   "metadata": {},
   "source": [
    "## Train and Test set Data Preprocessing and Cleaning"
   ]
  },
  {
   "cell_type": "code",
   "execution_count": 2,
   "id": "6d9badad",
   "metadata": {},
   "outputs": [],
   "source": [
    "X_train = yellow_trip_train.loc[yellow_trip_train['start_date']<= pd.datetime.date(pd.datetime(2019,7,31))]\n",
    "X_test = yellow_trip_test"
   ]
  },
  {
   "cell_type": "code",
   "execution_count": 3,
   "id": "c2475724",
   "metadata": {},
   "outputs": [],
   "source": [
    "Drop_attr = [\"PULocationID\",\"hour\",\"start_date\",\"fare_amount\",\"duration\"]\n",
    "X_train.drop(Drop_attr,1,inplace = True)\n",
    "X_test.drop(Drop_attr,1,inplace = True)"
   ]
  },
  {
   "cell_type": "markdown",
   "id": "b98467b3",
   "metadata": {},
   "source": [
    "## Output dataset"
   ]
  },
  {
   "cell_type": "code",
   "execution_count": 4,
   "id": "d2616167",
   "metadata": {},
   "outputs": [],
   "source": [
    "X_train.to_csv(\"../preprocessed_data/train_set.csv\")\n",
    "X_test.to_csv(\"../preprocessed_data/test_set.csv\")\n"
   ]
  },
  {
   "cell_type": "code",
   "execution_count": null,
   "id": "b526e047",
   "metadata": {},
   "outputs": [],
   "source": []
  }
 ],
 "metadata": {
  "kernelspec": {
   "display_name": "Python 3",
   "language": "python",
   "name": "python3"
  },
  "language_info": {
   "codemirror_mode": {
    "name": "ipython",
    "version": 3
   },
   "file_extension": ".py",
   "mimetype": "text/x-python",
   "name": "python",
   "nbconvert_exporter": "python",
   "pygments_lexer": "ipython3",
   "version": "3.7.4"
  }
 },
 "nbformat": 4,
 "nbformat_minor": 5
}
